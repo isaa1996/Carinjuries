{
 "cells": [
  {
   "cell_type": "code",
   "execution_count": 193,
   "id": "7d8840d9-368d-436c-be12-36b8463fdf9a",
   "metadata": {},
   "outputs": [
    {
     "name": "stdout",
     "output_type": "stream",
     "text": [
      "Requirement already satisfied: pandas in /opt/anaconda3/lib/python3.12/site-packages (2.2.2)\n",
      "Requirement already satisfied: openpyxl in /opt/anaconda3/lib/python3.12/site-packages (3.1.5)\n",
      "Requirement already satisfied: numpy>=1.26.0 in /opt/anaconda3/lib/python3.12/site-packages (from pandas) (1.26.4)\n",
      "Requirement already satisfied: python-dateutil>=2.8.2 in /opt/anaconda3/lib/python3.12/site-packages (from pandas) (2.9.0.post0)\n",
      "Requirement already satisfied: pytz>=2020.1 in /opt/anaconda3/lib/python3.12/site-packages (from pandas) (2024.1)\n",
      "Requirement already satisfied: tzdata>=2022.7 in /opt/anaconda3/lib/python3.12/site-packages (from pandas) (2023.3)\n",
      "Requirement already satisfied: et-xmlfile in /opt/anaconda3/lib/python3.12/site-packages (from openpyxl) (1.1.0)\n",
      "Requirement already satisfied: six>=1.5 in /opt/anaconda3/lib/python3.12/site-packages (from python-dateutil>=2.8.2->pandas) (1.16.0)\n"
     ]
    }
   ],
   "source": [
    "import pandas as pd \n",
    "!pip install pandas openpyxl\n"
   ]
  },
  {
   "cell_type": "code",
   "execution_count": 194,
   "id": "07ceb046-0df2-4e06-b3c0-334559229821",
   "metadata": {},
   "outputs": [],
   "source": [
    "df = pd.read_excel('new dataset.xlsx')"
   ]
  },
  {
   "cell_type": "code",
   "execution_count": 195,
   "id": "ed20460f-0d23-492f-8187-0c804c92c4cb",
   "metadata": {},
   "outputs": [
    {
     "data": {
      "text/html": [
       "<div>\n",
       "<style scoped>\n",
       "    .dataframe tbody tr th:only-of-type {\n",
       "        vertical-align: middle;\n",
       "    }\n",
       "\n",
       "    .dataframe tbody tr th {\n",
       "        vertical-align: top;\n",
       "    }\n",
       "\n",
       "    .dataframe thead th {\n",
       "        text-align: right;\n",
       "    }\n",
       "</style>\n",
       "<table border=\"1\" class=\"dataframe\">\n",
       "  <thead>\n",
       "    <tr style=\"text-align: right;\">\n",
       "      <th></th>\n",
       "      <th>Year</th>\n",
       "      <th>Month</th>\n",
       "      <th>Day</th>\n",
       "      <th>Weekend?</th>\n",
       "      <th>Hour</th>\n",
       "      <th>Collision Type</th>\n",
       "      <th>Injury Type</th>\n",
       "      <th>Primary Factor</th>\n",
       "      <th>Reported_Location</th>\n",
       "      <th>Latitude</th>\n",
       "      <th>Longitude</th>\n",
       "    </tr>\n",
       "  </thead>\n",
       "  <tbody>\n",
       "    <tr>\n",
       "      <th>0</th>\n",
       "      <td>2015</td>\n",
       "      <td>1</td>\n",
       "      <td>5</td>\n",
       "      <td>Weekday</td>\n",
       "      <td>0.0</td>\n",
       "      <td>2-Car</td>\n",
       "      <td>No injury/unknown</td>\n",
       "      <td>OTHER (DRIVER) - EXPLAIN IN NARRATIVE</td>\n",
       "      <td>1ST &amp; FESS</td>\n",
       "      <td>39.159207</td>\n",
       "      <td>-86.525874</td>\n",
       "    </tr>\n",
       "    <tr>\n",
       "      <th>1</th>\n",
       "      <td>2015</td>\n",
       "      <td>1</td>\n",
       "      <td>6</td>\n",
       "      <td>Weekday</td>\n",
       "      <td>1500.0</td>\n",
       "      <td>2-Car</td>\n",
       "      <td>No injury/unknown</td>\n",
       "      <td>FOLLOWING TOO CLOSELY</td>\n",
       "      <td>2ND &amp; COLLEGE</td>\n",
       "      <td>39.161440</td>\n",
       "      <td>-86.534848</td>\n",
       "    </tr>\n",
       "    <tr>\n",
       "      <th>2</th>\n",
       "      <td>2015</td>\n",
       "      <td>1</td>\n",
       "      <td>6</td>\n",
       "      <td>Weekend</td>\n",
       "      <td>2300.0</td>\n",
       "      <td>2-Car</td>\n",
       "      <td>Non-incapacitating</td>\n",
       "      <td>DISREGARD SIGNAL/REG SIGN</td>\n",
       "      <td>BASSWOOD &amp; BLOOMFIELD</td>\n",
       "      <td>39.149780</td>\n",
       "      <td>-86.568890</td>\n",
       "    </tr>\n",
       "    <tr>\n",
       "      <th>3</th>\n",
       "      <td>2015</td>\n",
       "      <td>1</td>\n",
       "      <td>7</td>\n",
       "      <td>Weekend</td>\n",
       "      <td>900.0</td>\n",
       "      <td>2-Car</td>\n",
       "      <td>Non-incapacitating</td>\n",
       "      <td>FAILURE TO YIELD RIGHT OF WAY</td>\n",
       "      <td>GATES &amp; JACOBS</td>\n",
       "      <td>39.165655</td>\n",
       "      <td>-86.575956</td>\n",
       "    </tr>\n",
       "    <tr>\n",
       "      <th>4</th>\n",
       "      <td>2015</td>\n",
       "      <td>1</td>\n",
       "      <td>7</td>\n",
       "      <td>Weekend</td>\n",
       "      <td>1100.0</td>\n",
       "      <td>2-Car</td>\n",
       "      <td>No injury/unknown</td>\n",
       "      <td>FAILURE TO YIELD RIGHT OF WAY</td>\n",
       "      <td>W 3RD</td>\n",
       "      <td>39.164848</td>\n",
       "      <td>-86.579625</td>\n",
       "    </tr>\n",
       "  </tbody>\n",
       "</table>\n",
       "</div>"
      ],
      "text/plain": [
       "   Year  Month  Day Weekend?    Hour Collision Type         Injury Type  \\\n",
       "0  2015      1    5  Weekday     0.0          2-Car   No injury/unknown   \n",
       "1  2015      1    6  Weekday  1500.0          2-Car   No injury/unknown   \n",
       "2  2015      1    6  Weekend  2300.0          2-Car  Non-incapacitating   \n",
       "3  2015      1    7  Weekend   900.0          2-Car  Non-incapacitating   \n",
       "4  2015      1    7  Weekend  1100.0          2-Car   No injury/unknown   \n",
       "\n",
       "                          Primary Factor      Reported_Location   Latitude  \\\n",
       "0  OTHER (DRIVER) - EXPLAIN IN NARRATIVE             1ST & FESS  39.159207   \n",
       "1                  FOLLOWING TOO CLOSELY          2ND & COLLEGE  39.161440   \n",
       "2              DISREGARD SIGNAL/REG SIGN  BASSWOOD & BLOOMFIELD  39.149780   \n",
       "3          FAILURE TO YIELD RIGHT OF WAY         GATES & JACOBS  39.165655   \n",
       "4          FAILURE TO YIELD RIGHT OF WAY                  W 3RD  39.164848   \n",
       "\n",
       "   Longitude  \n",
       "0 -86.525874  \n",
       "1 -86.534848  \n",
       "2 -86.568890  \n",
       "3 -86.575956  \n",
       "4 -86.579625  "
      ]
     },
     "execution_count": 195,
     "metadata": {},
     "output_type": "execute_result"
    }
   ],
   "source": [
    "df.head()"
   ]
  },
  {
   "cell_type": "code",
   "execution_count": 196,
   "id": "be0ce7ef-c943-40d6-9b37-926d6631f46f",
   "metadata": {},
   "outputs": [
    {
     "data": {
      "text/plain": [
       "Year                    0\n",
       "Month                   0\n",
       "Day                     0\n",
       "Weekend?               68\n",
       "Hour                  225\n",
       "Collision Type          6\n",
       "Injury Type             0\n",
       "Primary Factor       1121\n",
       "Reported_Location      35\n",
       "Latitude               30\n",
       "Longitude              30\n",
       "dtype: int64"
      ]
     },
     "execution_count": 196,
     "metadata": {},
     "output_type": "execute_result"
    }
   ],
   "source": [
    "df.isnull().sum()"
   ]
  },
  {
   "cell_type": "code",
   "execution_count": 197,
   "id": "e943edc4-7fd1-48d4-82ea-c643e2d21b58",
   "metadata": {},
   "outputs": [],
   "source": [
    "df = df.dropna()"
   ]
  },
  {
   "cell_type": "code",
   "execution_count": 198,
   "id": "7ee5cd6b-8dde-4b49-885e-be04eb74f4c6",
   "metadata": {},
   "outputs": [
    {
     "data": {
      "text/plain": [
       "Year                   int64\n",
       "Month                  int64\n",
       "Day                    int64\n",
       "Weekend?              object\n",
       "Hour                 float64\n",
       "Collision Type        object\n",
       "Injury Type           object\n",
       "Primary Factor        object\n",
       "Reported_Location     object\n",
       "Latitude             float64\n",
       "Longitude            float64\n",
       "dtype: object"
      ]
     },
     "execution_count": 198,
     "metadata": {},
     "output_type": "execute_result"
    }
   ],
   "source": [
    "df.dtypes\n"
   ]
  },
  {
   "cell_type": "code",
   "execution_count": 199,
   "id": "a95c2e32-df51-4197-9e6d-cc60bd7bbcec",
   "metadata": {},
   "outputs": [],
   "source": [
    "from sklearn.preprocessing import OneHotEncoder"
   ]
  },
  {
   "cell_type": "code",
   "execution_count": 200,
   "id": "696e637d-37f5-4ad2-b7b1-74ea0f7ead2d",
   "metadata": {},
   "outputs": [],
   "source": [
    "ohc = OneHotEncoder(sparse_output=False)\n",
    "weekend_encoded = ohc.fit_transform(df[['Weekend?']])\n",
    "weekend_encoded_df = pd.DataFrame(weekend_encoded, columns=ohc.categories_[0])\n",
    "df = pd.concat([df, weekend_encoded_df], axis=1)"
   ]
  },
  {
   "cell_type": "code",
   "execution_count": 201,
   "id": "a4f559c6-0461-44bb-b288-6b452575e6e1",
   "metadata": {},
   "outputs": [],
   "source": [
    "df = df.drop('Weekend?', axis=1)\n",
    "df = df.drop('Weekday', axis=1)"
   ]
  },
  {
   "cell_type": "code",
   "execution_count": null,
   "id": "ae6b7166-5df2-4e88-9a0c-690092a78dbc",
   "metadata": {},
   "outputs": [],
   "source": []
  },
  {
   "cell_type": "code",
   "execution_count": null,
   "id": "96172783-a19d-4fa1-ac87-629459356ba8",
   "metadata": {},
   "outputs": [],
   "source": []
  },
  {
   "cell_type": "code",
   "execution_count": 202,
   "id": "82a2b5a8-147d-4afc-95a2-9d3e70439953",
   "metadata": {},
   "outputs": [],
   "source": [
    "collision_encoded = ohc.fit_transform(df[['Collision Type']])\n",
    "collision_encoded_df = pd.DataFrame(collision_encoded, columns = ohc.categories_[0])\n",
    "df =  pd.concat([df, collision_encoded_df], axis = 1)"
   ]
  },
  {
   "cell_type": "code",
   "execution_count": 203,
   "id": "5a625d81-6b59-4212-97f4-0649646f98bf",
   "metadata": {},
   "outputs": [],
   "source": [
    "df = df.drop('Collision Type', axis=1)"
   ]
  },
  {
   "cell_type": "code",
   "execution_count": 204,
   "id": "61784836-9f6b-4be5-ade7-b41f8ed7dd14",
   "metadata": {},
   "outputs": [],
   "source": [
    "injury_encoded = ohc.fit_transform(df[['Injury Type']])\n",
    "injury_encoded_df = pd.DataFrame(injury_encoded, columns = ohc.categories_[0])\n",
    "df =  pd.concat([df, injury_encoded_df], axis = 1)\n"
   ]
  },
  {
   "cell_type": "code",
   "execution_count": 205,
   "id": "00fdebb8-dbcd-4e15-b71d-1a8284b34de0",
   "metadata": {},
   "outputs": [],
   "source": [
    "df = df.drop(['Injury Type'], axis=1)"
   ]
  },
  {
   "cell_type": "code",
   "execution_count": 206,
   "id": "809f3c32-dd8d-4efb-bc51-5fcb8c71ed43",
   "metadata": {},
   "outputs": [],
   "source": [
    "primary_encoded = ohc.fit_transform(df[['Primary Factor']])\n",
    "primary_encoded_df = pd.DataFrame(primary_encoded, columns = ohc.categories_[0])\n",
    "df =  pd.concat([df, primary_encoded_df], axis = 1)\n"
   ]
  },
  {
   "cell_type": "code",
   "execution_count": 207,
   "id": "4ccdfe42-495d-4895-b43f-2aa039d581bf",
   "metadata": {},
   "outputs": [],
   "source": [
    "df = df.drop(['Primary Factor'], axis=1)"
   ]
  },
  {
   "cell_type": "code",
   "execution_count": 208,
   "id": "fddc3c9b-4c09-421d-bd6f-421650fb9579",
   "metadata": {},
   "outputs": [],
   "source": [
    "df.head\n",
    "df.columns\n",
    "df = df.dropna()"
   ]
  },
  {
   "cell_type": "code",
   "execution_count": 209,
   "id": "3de04874-1325-43da-8dcc-8b0afa55b3f9",
   "metadata": {},
   "outputs": [
    {
     "data": {
      "text/html": [
       "<div>\n",
       "<style scoped>\n",
       "    .dataframe tbody tr th:only-of-type {\n",
       "        vertical-align: middle;\n",
       "    }\n",
       "\n",
       "    .dataframe tbody tr th {\n",
       "        vertical-align: top;\n",
       "    }\n",
       "\n",
       "    .dataframe thead th {\n",
       "        text-align: right;\n",
       "    }\n",
       "</style>\n",
       "<table border=\"1\" class=\"dataframe\">\n",
       "  <thead>\n",
       "    <tr style=\"text-align: right;\">\n",
       "      <th></th>\n",
       "      <th>Year</th>\n",
       "      <th>Month</th>\n",
       "      <th>Day</th>\n",
       "      <th>Hour</th>\n",
       "      <th>Reported_Location</th>\n",
       "      <th>Latitude</th>\n",
       "      <th>Longitude</th>\n",
       "      <th>Weekend</th>\n",
       "      <th>1-Car</th>\n",
       "      <th>2-Car</th>\n",
       "      <th>...</th>\n",
       "      <th>TOW HITCH FAILURE</th>\n",
       "      <th>TRAFFIC CONTROL INOPERATIVE/MISSING/OBSC</th>\n",
       "      <th>UNSAFE BACKING</th>\n",
       "      <th>UNSAFE LANE MOVEMENT</th>\n",
       "      <th>UNSAFE SPEED</th>\n",
       "      <th>UTILITY WORK</th>\n",
       "      <th>VIEW OBSTRUCTED</th>\n",
       "      <th>VIOLATION OF LICENSE RESTRICTION</th>\n",
       "      <th>WRONG WAY ON ONE WAY</th>\n",
       "      <th>NaN</th>\n",
       "    </tr>\n",
       "  </thead>\n",
       "  <tbody>\n",
       "    <tr>\n",
       "      <th>0</th>\n",
       "      <td>1.585584</td>\n",
       "      <td>-1.615042</td>\n",
       "      <td>0.420699</td>\n",
       "      <td>-2.542555</td>\n",
       "      <td>1ST &amp; FESS</td>\n",
       "      <td>0.299473</td>\n",
       "      <td>-0.299497</td>\n",
       "      <td>0.0</td>\n",
       "      <td>0.0</td>\n",
       "      <td>1.0</td>\n",
       "      <td>...</td>\n",
       "      <td>0.0</td>\n",
       "      <td>0.0</td>\n",
       "      <td>0.0</td>\n",
       "      <td>0.0</td>\n",
       "      <td>0.0</td>\n",
       "      <td>0.0</td>\n",
       "      <td>0.0</td>\n",
       "      <td>0.0</td>\n",
       "      <td>0.0</td>\n",
       "      <td>0.0</td>\n",
       "    </tr>\n",
       "    <tr>\n",
       "      <th>1</th>\n",
       "      <td>1.585584</td>\n",
       "      <td>-1.615042</td>\n",
       "      <td>0.945330</td>\n",
       "      <td>0.286064</td>\n",
       "      <td>2ND &amp; COLLEGE</td>\n",
       "      <td>0.299680</td>\n",
       "      <td>-0.299874</td>\n",
       "      <td>0.0</td>\n",
       "      <td>0.0</td>\n",
       "      <td>1.0</td>\n",
       "      <td>...</td>\n",
       "      <td>0.0</td>\n",
       "      <td>0.0</td>\n",
       "      <td>0.0</td>\n",
       "      <td>0.0</td>\n",
       "      <td>0.0</td>\n",
       "      <td>0.0</td>\n",
       "      <td>0.0</td>\n",
       "      <td>0.0</td>\n",
       "      <td>0.0</td>\n",
       "      <td>0.0</td>\n",
       "    </tr>\n",
       "    <tr>\n",
       "      <th>2</th>\n",
       "      <td>1.585584</td>\n",
       "      <td>-1.615042</td>\n",
       "      <td>0.945330</td>\n",
       "      <td>1.794661</td>\n",
       "      <td>BASSWOOD &amp; BLOOMFIELD</td>\n",
       "      <td>0.298599</td>\n",
       "      <td>-0.301302</td>\n",
       "      <td>1.0</td>\n",
       "      <td>0.0</td>\n",
       "      <td>1.0</td>\n",
       "      <td>...</td>\n",
       "      <td>0.0</td>\n",
       "      <td>0.0</td>\n",
       "      <td>0.0</td>\n",
       "      <td>0.0</td>\n",
       "      <td>0.0</td>\n",
       "      <td>0.0</td>\n",
       "      <td>0.0</td>\n",
       "      <td>0.0</td>\n",
       "      <td>0.0</td>\n",
       "      <td>0.0</td>\n",
       "    </tr>\n",
       "    <tr>\n",
       "      <th>3</th>\n",
       "      <td>1.585584</td>\n",
       "      <td>-1.615042</td>\n",
       "      <td>1.469960</td>\n",
       "      <td>-0.845384</td>\n",
       "      <td>GATES &amp; JACOBS</td>\n",
       "      <td>0.300071</td>\n",
       "      <td>-0.301599</td>\n",
       "      <td>1.0</td>\n",
       "      <td>0.0</td>\n",
       "      <td>1.0</td>\n",
       "      <td>...</td>\n",
       "      <td>0.0</td>\n",
       "      <td>0.0</td>\n",
       "      <td>0.0</td>\n",
       "      <td>0.0</td>\n",
       "      <td>0.0</td>\n",
       "      <td>0.0</td>\n",
       "      <td>0.0</td>\n",
       "      <td>0.0</td>\n",
       "      <td>0.0</td>\n",
       "      <td>0.0</td>\n",
       "    </tr>\n",
       "    <tr>\n",
       "      <th>4</th>\n",
       "      <td>1.585584</td>\n",
       "      <td>-1.615042</td>\n",
       "      <td>1.469960</td>\n",
       "      <td>-0.468234</td>\n",
       "      <td>W 3RD</td>\n",
       "      <td>0.299997</td>\n",
       "      <td>-0.301753</td>\n",
       "      <td>1.0</td>\n",
       "      <td>0.0</td>\n",
       "      <td>1.0</td>\n",
       "      <td>...</td>\n",
       "      <td>0.0</td>\n",
       "      <td>0.0</td>\n",
       "      <td>0.0</td>\n",
       "      <td>0.0</td>\n",
       "      <td>0.0</td>\n",
       "      <td>0.0</td>\n",
       "      <td>0.0</td>\n",
       "      <td>0.0</td>\n",
       "      <td>0.0</td>\n",
       "      <td>0.0</td>\n",
       "    </tr>\n",
       "  </tbody>\n",
       "</table>\n",
       "<p>5 rows × 77 columns</p>\n",
       "</div>"
      ],
      "text/plain": [
       "       Year     Month       Day      Hour      Reported_Location  Latitude  \\\n",
       "0  1.585584 -1.615042  0.420699 -2.542555             1ST & FESS  0.299473   \n",
       "1  1.585584 -1.615042  0.945330  0.286064          2ND & COLLEGE  0.299680   \n",
       "2  1.585584 -1.615042  0.945330  1.794661  BASSWOOD & BLOOMFIELD  0.298599   \n",
       "3  1.585584 -1.615042  1.469960 -0.845384         GATES & JACOBS  0.300071   \n",
       "4  1.585584 -1.615042  1.469960 -0.468234                  W 3RD  0.299997   \n",
       "\n",
       "   Longitude  Weekend  1-Car  2-Car  ...  TOW HITCH FAILURE  \\\n",
       "0  -0.299497      0.0    0.0    1.0  ...                0.0   \n",
       "1  -0.299874      0.0    0.0    1.0  ...                0.0   \n",
       "2  -0.301302      1.0    0.0    1.0  ...                0.0   \n",
       "3  -0.301599      1.0    0.0    1.0  ...                0.0   \n",
       "4  -0.301753      1.0    0.0    1.0  ...                0.0   \n",
       "\n",
       "   TRAFFIC CONTROL INOPERATIVE/MISSING/OBSC  UNSAFE BACKING  \\\n",
       "0                                       0.0             0.0   \n",
       "1                                       0.0             0.0   \n",
       "2                                       0.0             0.0   \n",
       "3                                       0.0             0.0   \n",
       "4                                       0.0             0.0   \n",
       "\n",
       "   UNSAFE LANE MOVEMENT  UNSAFE SPEED  UTILITY WORK  VIEW OBSTRUCTED  \\\n",
       "0                   0.0           0.0           0.0              0.0   \n",
       "1                   0.0           0.0           0.0              0.0   \n",
       "2                   0.0           0.0           0.0              0.0   \n",
       "3                   0.0           0.0           0.0              0.0   \n",
       "4                   0.0           0.0           0.0              0.0   \n",
       "\n",
       "   VIOLATION OF LICENSE RESTRICTION  WRONG WAY ON ONE WAY  NaN  \n",
       "0                               0.0                   0.0  0.0  \n",
       "1                               0.0                   0.0  0.0  \n",
       "2                               0.0                   0.0  0.0  \n",
       "3                               0.0                   0.0  0.0  \n",
       "4                               0.0                   0.0  0.0  \n",
       "\n",
       "[5 rows x 77 columns]"
      ]
     },
     "execution_count": 209,
     "metadata": {},
     "output_type": "execute_result"
    }
   ],
   "source": [
    "from sklearn.preprocessing import StandardScaler\n",
    "scaler = StandardScaler()\n",
    "scaled_features = scaler.fit_transform(df[['Year', 'Month', 'Day', 'Hour', 'Latitude', 'Longitude']])\n",
    "scaled_df = pd.DataFrame(scaled_features, columns=['Year', 'Month', 'Day', 'Hour', 'Latitude', 'Longitude'])\n",
    "df[['Year', 'Month', 'Day', 'Hour', 'Latitude', 'Longitude']] = scaled_df\n",
    "df.head()"
   ]
  },
  {
   "cell_type": "code",
   "execution_count": 210,
   "id": "98c60850-64fe-4404-880d-8b9c77d31f89",
   "metadata": {},
   "outputs": [],
   "source": [
    "df = df.drop('Reported_Location', axis=1)"
   ]
  },
  {
   "cell_type": "code",
   "execution_count": 211,
   "id": "3ea8261b-33cc-4d6a-8159-8bf6f6c775b1",
   "metadata": {},
   "outputs": [
    {
     "data": {
      "text/plain": [
       "Year                                0\n",
       "Month                               0\n",
       "Day                                 0\n",
       "Hour                                0\n",
       "Latitude                            0\n",
       "                                   ..\n",
       "UNSAFE SPEED                        0\n",
       "UTILITY WORK                        0\n",
       "VIEW OBSTRUCTED                     0\n",
       "VIOLATION OF LICENSE RESTRICTION    0\n",
       "WRONG WAY ON ONE WAY                0\n",
       "Length: 73, dtype: int64"
      ]
     },
     "execution_count": 211,
     "metadata": {},
     "output_type": "execute_result"
    }
   ],
   "source": [
    "df = df.loc[:, df.columns.notna()]\n",
    "df = df.dropna()\n",
    "df.isnull().sum()"
   ]
  },
  {
   "cell_type": "code",
   "execution_count": 212,
   "id": "a2b4adbd-ffa9-42f9-8992-8677ef398d72",
   "metadata": {},
   "outputs": [
    {
     "name": "stderr",
     "output_type": "stream",
     "text": [
      "/opt/anaconda3/lib/python3.12/site-packages/sklearn/linear_model/_logistic.py:1237: FutureWarning: 'multi_class' was deprecated in version 1.5 and will be removed in 1.7. From then on, binary problems will be fit as proper binary  logistic regression models (as if multi_class='ovr' were set). Leave it to its default value to avoid this warning.\n",
      "  warnings.warn(\n",
      "/opt/anaconda3/lib/python3.12/site-packages/sklearn/linear_model/_logistic.py:1237: FutureWarning: 'multi_class' was deprecated in version 1.5 and will be removed in 1.7. From then on, binary problems will be fit as proper binary  logistic regression models (as if multi_class='ovr' were set). Leave it to its default value to avoid this warning.\n",
      "  warnings.warn(\n",
      "/opt/anaconda3/lib/python3.12/site-packages/sklearn/linear_model/_logistic.py:1237: FutureWarning: 'multi_class' was deprecated in version 1.5 and will be removed in 1.7. From then on, binary problems will be fit as proper binary  logistic regression models (as if multi_class='ovr' were set). Leave it to its default value to avoid this warning.\n",
      "  warnings.warn(\n",
      "/opt/anaconda3/lib/python3.12/site-packages/sklearn/linear_model/_logistic.py:1237: FutureWarning: 'multi_class' was deprecated in version 1.5 and will be removed in 1.7. From then on, binary problems will be fit as proper binary  logistic regression models (as if multi_class='ovr' were set). Leave it to its default value to avoid this warning.\n",
      "  warnings.warn(\n"
     ]
    },
    {
     "name": "stdout",
     "output_type": "stream",
     "text": [
      "Training Accuracy: 0.7829117705636327\n",
      "Test Accuracy: 0.7905795658235412\n"
     ]
    }
   ],
   "source": [
    "from sklearn.model_selection import train_test_split\n",
    "from sklearn.linear_model import LogisticRegression\n",
    "from sklearn.multioutput import MultiOutputClassifier\n",
    "\n",
    "lr = LogisticRegression(max_iter=1000, multi_class='multinomial', solver='lbfgs')\n",
    "multi_target_lr = MultiOutputClassifier(lr)\n",
    "\n",
    "X = df.drop(['Fatal', 'Incapacitating', 'No injury/unknown', 'Non-incapacitating'], axis=1)\n",
    "X.columns = X.columns.astype(str)\n",
    "y = df[['Fatal', 'Incapacitating', 'No injury/unknown', 'Non-incapacitating']]\n",
    "\n",
    "X_train, X_test, y_train, y_test = train_test_split(X, y, test_size=0.2, random_state=42)\n",
    "\n",
    "multi_target_lr.fit(X_train, y_train)\n",
    "\n",
    "print(\"Training Accuracy:\", multi_target_lr.score(X_train, y_train))\n",
    "print(\"Test Accuracy:\", multi_target_lr.score(X_test, y_test))\n"
   ]
  },
  {
   "cell_type": "code",
   "execution_count": 243,
   "id": "89b48cef-9730-4194-a1d9-be0598468ba0",
   "metadata": {},
   "outputs": [
    {
     "data": {
      "image/png": "[encoded data removed]",
      "text/plain": [
       "<Figure size 640x480 with 1 Axes>"
      ]
     },
     "metadata": {},
     "output_type": "display_data"
    }
   ],
   "source": [
    "import matplotlib.pyplot as plt\n",
    "\n",
    "df[['Fatal', 'Incapacitating']].sum().plot(kind='bar', color=['red', 'blue'], edgecolor='black')\n",
    "plt.title('Fatal vs Incapacitating Injuries')\n",
    "plt.xlabel('Injury Type')\n",
    "plt.ylabel('Count')\n",
    "plt.xticks([0, 1], ['Fatal', 'Incapacitating'])\n",
    "plt.show()\n"
   ]
  },
  {
   "cell_type": "code",
   "execution_count": null,
   "id": "b48d9100-c3ea-4f44-bab6-b2f29f4e1149",
   "metadata": {},
   "outputs": [],
   "source": []
  }
 ],
 "metadata": {
  "kernelspec": {
   "display_name": "Python 3 (ipykernel)",
   "language": "python",
   "name": "python3"
  },
  "language_info": {
   "codemirror_mode": {
    "name": "ipython",
    "version": 3
   },
   "file_extension": ".py",
   "mimetype": "text/x-python",
   "name": "python",
   "nbconvert_exporter": "python",
   "pygments_lexer": "ipython3",
   "version": "3.12.7"
  }
 },
 "nbformat": 4,
 "nbformat_minor": 5
}
